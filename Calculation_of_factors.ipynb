{
  "nbformat": 4,
  "nbformat_minor": 0,
  "metadata": {
    "colab": {
      "provenance": []
    },
    "kernelspec": {
      "name": "python3",
      "display_name": "Python 3"
    },
    "language_info": {
      "name": "python"
    }
  },
  "cells": [
    {
      "cell_type": "code",
      "execution_count": 10,
      "metadata": {
        "id": "Vam5b755ZrO6"
      },
      "outputs": [],
      "source": [
        "class fraction:\n",
        "  #parameter constructor are those constructor that require more than one paraeters\n",
        "  def __init__(self,x,y):\n",
        "    self.num= x\n",
        "    self.den= y\n",
        "\n",
        "\n",
        "  def __str__(self):\n",
        "    return '{}/{}'.format(self.num, self.den)\n",
        "\n",
        "\n",
        "  def __add__(self,other):\n",
        "    new_num = self.num*other.den + self.den*other.num\n",
        "    new_den = self.den*other.den\n",
        "    return '{}/{}'.format(new_num,new_den)\n",
        "\n",
        "\n",
        "\n",
        "\n",
        "\n",
        "  def __sub__(self,other):\n",
        "    new_num = self.num*other.den - self.den*other.num\n",
        "    new_den = self.den*other.den\n",
        "    return '{}/{}'.format(new_num,new_den)\n",
        "\n",
        "\n",
        "\n",
        "\n",
        "\n",
        "  def __mul__(self,other):\n",
        "    new_num = self.num*other.num\n",
        "    new_den = self.den*other.den\n",
        "    return '{}/{}'.format(new_num,new_den)\n",
        "\n",
        "\n",
        "\n",
        "\n",
        "  def __truediv__(self,other):\n",
        "    new_num = self.num*other.den\n",
        "    new_den = self.den*other.num\n",
        "    return '{}/{}'.format(new_num,new_den)"
      ]
    },
    {
      "cell_type": "code",
      "source": [
        "fr1 = fraction(3,4)\n",
        "fr2 = fraction(1,2)\n",
        "print(fr1+fr2)\n",
        "print(fr1-fr2)\n",
        "print(fr1*fr2)\n",
        "print(fr1/fr2)\n"
      ],
      "metadata": {
        "colab": {
          "base_uri": "https://localhost:8080/"
        },
        "id": "SQmi_HLchB76",
        "outputId": "92846d57-fef3-4a1e-a91c-82f6dea96668"
      },
      "execution_count": 11,
      "outputs": [
        {
          "output_type": "stream",
          "name": "stdout",
          "text": [
            "10/8\n",
            "2/8\n",
            "3/8\n",
            "6/4\n"
          ]
        }
      ]
    },
    {
      "cell_type": "code",
      "source": [],
      "metadata": {
        "id": "8PYr1oKMhIMe"
      },
      "execution_count": null,
      "outputs": []
    }
  ]
}